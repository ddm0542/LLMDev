{
 "cells": [
  {
   "cell_type": "code",
   "execution_count": 1,
   "id": "7539db6e-68c6-450c-92f4-51964b067de5",
   "metadata": {},
   "outputs": [
    {
     "data": {
      "text/plain": [
       "{'ALLUSERSPROFILE': 'C:\\\\ProgramData',\n",
       " 'AMDRMPATH': 'C:\\\\Program Files\\\\AMD\\\\RyzenMaster\\\\',\n",
       " 'APPDATA': 'C:\\\\Users\\\\Francis Sergi\\\\AppData\\\\Roaming',\n",
       " 'CABAL_DIR': 'H:\\\\cabal',\n",
       " 'CHERE_INVOKING': '1',\n",
       " 'CHOCOLATEYINSTALL': 'C:\\\\ProgramData\\\\chocolatey',\n",
       " 'CHOCOLATEYLASTPATHUPDATE': '132929491930648684',\n",
       " 'CHOCOLATEYTOOLSLOCATION': 'C:\\\\tools',\n",
       " 'COMMONPROGRAMFILES': 'C:\\\\Program Files\\\\Common Files',\n",
       " 'COMMONPROGRAMFILES(X86)': 'C:\\\\Program Files (x86)\\\\Common Files',\n",
       " 'COMMONPROGRAMW6432': 'C:\\\\Program Files\\\\Common Files',\n",
       " 'COMPUTERNAME': 'DESKTOP-AN20DSO',\n",
       " 'COMSPEC': 'C:\\\\WINDOWS\\\\system32\\\\cmd.exe',\n",
       " 'CONDA_DEFAULT_ENV': 'llm',\n",
       " 'CONDA_EXE': 'H:\\\\anaconda3\\\\Scripts\\\\conda.exe',\n",
       " 'CONDA_PREFIX': 'H:\\\\anaconda3\\\\envs\\\\llm',\n",
       " 'CONDA_PROMPT_MODIFIER': '(llm) ',\n",
       " 'CONDA_PYTHON_EXE': 'H:\\\\anaconda3\\\\python.exe',\n",
       " 'CONDA_ROOT': 'H:\\\\anaconda3',\n",
       " 'CONDA_SHLVL': '1',\n",
       " 'CXX': 'G:\\\\msys64\\\\mingw64\\\\bin',\n",
       " 'DRIVERDATA': 'C:\\\\Windows\\\\System32\\\\Drivers\\\\DriverData',\n",
       " 'EFC_9784': '1',\n",
       " 'ERLANG_HOME': 'C:\\\\Program Files\\\\erl9.2',\n",
       " 'FREI0R_PATH': 'H:\\\\Apowersoft\\\\Video Converter Studio\\\\frei0r',\n",
       " 'GECODEDIR': 'H:\\\\Gecode\\\\',\n",
       " 'GHCUP_INSTALL_BASE_PREFIX': 'H:\\\\',\n",
       " 'GIT_LFS_PATH': 'G:\\\\Programs\\\\Git LFS',\n",
       " 'GWMODDIR': 'C:\\\\GrWin\\\\MinGW64_gfortran\\\\mod\\\\',\n",
       " 'HOME': 'H:\\\\rubato',\n",
       " 'HOMEDRIVE': 'F:',\n",
       " 'HOMEPATH': '\\\\Users',\n",
       " 'IPY_INTERRUPT_EVENT': '2672',\n",
       " 'JAVA_HOME': 'H:\\\\Java\\\\jdk-19',\n",
       " 'JPY_INTERRUPT_EVENT': '2672',\n",
       " 'JPY_PARENT_PID': '2836',\n",
       " 'JPY_SESSION_NAME': 'H:\\\\llm\\\\lctut.ipynb',\n",
       " 'KMP_DUPLICATE_LIB_OK': 'TRUE',\n",
       " 'LOCALAPPDATA': 'C:\\\\Users\\\\Francis Sergi\\\\AppData\\\\Local',\n",
       " 'LOGONSERVER': '\\\\\\\\DESKTOP-AN20DSO',\n",
       " 'LOGTALKHOME': 'C:\\\\Program Files (x86)\\\\Logtalk',\n",
       " 'LOGTALKUSER': 'C:\\\\Users\\\\Francis Sergi\\\\Documents\\\\Logtalk',\n",
       " 'MKL_SERIAL': 'YES',\n",
       " 'MOSMLNETLIB': 'H:\\\\mosmlnet\\\\mosmlnet\\\\lib',\n",
       " 'MOZ_PLUGIN_PATH': 'F:\\\\Programs\\\\Foxit Software\\\\Foxit Reader\\\\plugins\\\\',\n",
       " 'NUMBER_OF_PROCESSORS': '16',\n",
       " 'OCULUSBASE': 'H:\\\\Oculus\\\\',\n",
       " 'OLLAMA_MODELS': 'H:\\\\OllamaMod',\n",
       " 'ONEDRIVE': 'C:\\\\Users\\\\Francis Sergi\\\\OneDrive',\n",
       " 'ONEDRIVECONSUMER': 'C:\\\\Users\\\\Francis Sergi\\\\OneDrive',\n",
       " 'OPENNI2_INCLUDE64': 'G:\\\\Program Files\\\\OpenNI2\\\\Include\\\\',\n",
       " 'OPENNI2_LIB64': 'G:\\\\Program Files\\\\OpenNI2\\\\Lib\\\\',\n",
       " 'OPENNI2_REDIST64': 'G:\\\\Program Files\\\\OpenNI2\\\\Redist\\\\',\n",
       " 'OS': 'Windows_NT',\n",
       " 'PATH': 'H:\\\\anaconda3\\\\envs\\\\llm;H:\\\\anaconda3\\\\envs\\\\llm\\\\Library\\\\mingw-w64\\\\bin;H:\\\\anaconda3\\\\envs\\\\llm\\\\Library\\\\usr\\\\bin;H:\\\\anaconda3\\\\envs\\\\llm\\\\Library\\\\bin;H:\\\\anaconda3\\\\envs\\\\llm\\\\Scripts;H:\\\\anaconda3\\\\envs\\\\llm\\\\bin;H:\\\\anaconda3\\\\condabin;H:\\\\anaconda3;H:\\\\anaconda3\\\\Library\\\\mingw-w64\\\\bin;H:\\\\anaconda3\\\\Library\\\\usr\\\\bin;H:\\\\anaconda3\\\\Library\\\\bin;H:\\\\anaconda3\\\\Scripts;H:\\\\Oculus\\\\Support\\\\oculus-runtime;H:\\\\Java\\\\jdk-19\\\\bin;C:\\\\Program Files\\\\Common Files\\\\Oracle\\\\Java\\\\javapath;C:\\\\Program Files (x86)\\\\Common Files\\\\Oracle\\\\Java\\\\javapath;H:\\\\Embarcadero\\\\Studio\\\\21.0\\\\bin;C:\\\\Users\\\\Public\\\\Documents\\\\Embarcadero\\\\Studio\\\\21.0\\\\Bpl;H:\\\\Embarcadero\\\\Studio\\\\21.0\\\\bin64;C:\\\\Users\\\\Public\\\\Documents\\\\Embarcadero\\\\Studio\\\\21.0\\\\Bpl\\\\Win64;C:\\\\WINDOWS\\\\system32;C:\\\\WINDOWS;C:\\\\WINDOWS\\\\System32\\\\Wbem;C:\\\\WINDOWS\\\\System32\\\\WindowsPowerShell\\\\v1.0;C:\\\\WINDOWS\\\\System32\\\\OpenSSH;C:\\\\Windows\\\\system32;C:\\\\Windows;C:\\\\Windows\\\\System32\\\\Wbem;C:\\\\Windows\\\\System32\\\\WindowsPowerShell\\\\v1.0;C:\\\\Windows\\\\System32\\\\OpenSSH;C:\\\\Program Files (x86)\\\\IVI Foundation\\\\VISA\\\\WinNT\\\\Bin;C:\\\\Program Files\\\\IVI Foundation\\\\VISA\\\\Win64\\\\Bin;C:\\\\Program Files (x86)\\\\IVI Foundation\\\\VISA\\\\WinNT\\\\Bin;C:\\\\Program Files\\\\Microsoft VS Code\\\\bin;H:\\\\MATLAB\\\\bin;H:\\\\MATLAB\\\\R2022a\\\\bin;C:\\\\PROGRA~1\\\\MATLAB\\\\R2020b\\\\bin;F:\\\\Programs\\\\GTK2-Runtime\\\\bin;G:\\\\Programs\\\\LLVM;C:\\\\ProgramData\\\\chocolatey\\\\bin;C:\\\\Program Files (x86)\\\\Google\\\\Cloud SDK\\\\google-cloud-sdk\\\\bin;H:\\\\SMLNJ\\\\bin;H:\\\\Gecode\\\\bin;H:\\\\Mozart\\\\bin;C:\\\\Program Files\\\\dotnet;C:\\\\WINDOWS\\\\system32;C:\\\\WINDOWS;C:\\\\WINDOWS\\\\System32\\\\Wbem;C:\\\\WINDOWS\\\\System32\\\\WindowsPowerShell\\\\v1.0;C:\\\\WINDOWS\\\\System32\\\\OpenSSH;H:\\\\nodejs;C:\\\\Program Files\\\\Wolfram Research\\\\WolframScript;G:\\\\Programs\\\\Git\\\\cmd;G:\\\\Programs\\\\Git LFS;G:\\\\msys64\\\\mingw64\\\\bin;H:\\\\Ruby31-x64\\\\bin;G:\\\\Programs\\\\Python\\\\Python38\\\\Scripts;G:\\\\Programs\\\\Python\\\\Python38;C:\\\\Users\\\\Francis Sergi\\\\AppData\\\\Local\\\\Microsoft\\\\WindowsApps;G:\\\\Programs\\\\Microsoft VS Code\\\\bin;G:\\\\Projects\\\\Winbuild\\\\bin;C:\\\\Users\\\\Francis Sergi\\\\.local\\\\bin;C:\\\\Users\\\\Francis Sergi\\\\AppData\\\\Roaming\\\\Python\\\\Python38\\\\Scripts;G:\\\\bin;F:\\\\Programs\\\\JetBrains\\\\PyCharm Community Edition 2020.3.3\\\\bin;.;G:\\\\Programs\\\\MiKTeX\\\\miktex\\\\bin\\\\x64;G:\\\\Programs\\\\swipl\\\\bin;G:\\\\Programs\\\\LLVM;G:\\\\Programs\\\\Faust\\\\bin;G:\\\\Programs\\\\JetBrains\\\\PyCharm 2021.2.2\\\\bin;.;G:\\\\flutter\\\\flutter\\\\bin;C:\\\\tools\\\\neovim\\\\Neovim\\\\bin;H:\\\\ghcup\\\\bin;C:\\\\Users\\\\Francis Sergi\\\\AppData\\\\Roaming\\\\local\\\\bin;H:\\\\Graphviz\\\\bin;G:\\\\Programs\\\\Microsoft\\\\Ide\\\\VC\\\\Tools\\\\MSVC\\\\14.29.30133\\\\bin\\\\Hostx64\\\\x64;H:\\\\CMake\\\\bin;H:\\\\ninja;C:\\\\Users\\\\Francis Sergi\\\\.dotnet\\\\tools;C:\\\\Users\\\\Francis Sergi\\\\AppData\\\\Roaming\\\\npm;C:\\\\Users\\\\Francis Sergi\\\\AppData\\\\Local\\\\Programs\\\\Ollama',\n",
       " 'PATHEXT': '.COM;.EXE;.BAT;.CMD;.VBS;.VBE;.JS;.JSE;.WSF;.WSH;.MSC;.RB;.RBW',\n",
       " 'PGPLOT_DIR': 'C:\\\\GrWin\\\\',\n",
       " 'PGPLOT_FONT': 'C:\\\\GrWin\\\\grfont.dat',\n",
       " 'PIPX_BIN_DIR': 'G:\\\\bin',\n",
       " 'PIPX_HOME': 'G:\\\\venvs',\n",
       " 'PROCESSOR_ARCHITECTURE': 'AMD64',\n",
       " 'PROCESSOR_IDENTIFIER': 'AMD64 Family 25 Model 33 Stepping 0, AuthenticAMD',\n",
       " 'PROCESSOR_LEVEL': '25',\n",
       " 'PROCESSOR_REVISION': '2100',\n",
       " 'PROGRAMDATA': 'C:\\\\ProgramData',\n",
       " 'PROGRAMFILES': 'C:\\\\Program Files',\n",
       " 'PROGRAMFILES(X86)': 'C:\\\\Program Files (x86)',\n",
       " 'PROGRAMW6432': 'C:\\\\Program Files',\n",
       " 'PROMPT': '(llm) $P$G',\n",
       " 'PSMODULEPATH': 'F:\\\\Users\\\\Documents\\\\WindowsPowerShell\\\\Modules;',\n",
       " 'PUBLIC': 'C:\\\\Users\\\\Public',\n",
       " 'PYCHARM': 'G:\\\\Programs\\\\JetBrains\\\\PyCharm 2021.2.2\\\\bin;',\n",
       " 'PYCHARM COMMUNITY EDITION': 'F:\\\\Programs\\\\JetBrains\\\\PyCharm Community Edition 2020.3.3\\\\bin;',\n",
       " 'QT_API': 'pyqt5',\n",
       " 'RABBITMQ_NODENAME': 'rabbit@localhost',\n",
       " 'ROS_HOSTNAME': '192.168.1.66',\n",
       " 'ROS_MASTER_URI': 'http://192.168.1.66:11311',\n",
       " 'SESSIONNAME': 'Console',\n",
       " 'SMLNJ_HOME': 'H:\\\\SMLNJ\\\\',\n",
       " 'SSL_CERT_FILE': 'H:\\\\anaconda3\\\\envs\\\\llm\\\\Library\\\\ssl\\\\cacert.pem',\n",
       " 'SYSTEMDRIVE': 'C:',\n",
       " 'SYSTEMROOT': 'C:\\\\WINDOWS',\n",
       " 'TEMP': 'C:\\\\Users\\\\FRANCI~1\\\\AppData\\\\Local\\\\Temp',\n",
       " 'TMP': 'C:\\\\Users\\\\FRANCI~1\\\\AppData\\\\Local\\\\Temp',\n",
       " 'USERDOMAIN': 'DESKTOP-AN20DSO',\n",
       " 'USERDOMAIN_ROAMINGPROFILE': 'DESKTOP-AN20DSO',\n",
       " 'USERNAME': 'Francis Sergi',\n",
       " 'USERPROFILE': 'C:\\\\Users\\\\Francis Sergi',\n",
       " 'VXIPNPPATH': 'C:\\\\Program Files (x86)\\\\IVI Foundation\\\\VISA\\\\',\n",
       " 'VXIPNPPATH64': 'C:\\\\Program Files\\\\IVI Foundation\\\\VISA\\\\',\n",
       " 'WEBOTS_HOME': 'G:\\\\Programs\\\\Webots',\n",
       " 'WINDIR': 'C:\\\\WINDOWS',\n",
       " '__CONDA_OPENSLL_CERT_FILE_SET': '\"1\"',\n",
       " '__PSLOCKDOWNPOLICY': '0',\n",
       " 'PYDEVD_USE_FRAME_EVAL': 'NO',\n",
       " 'TERM': 'xterm-color',\n",
       " 'CLICOLOR': '1',\n",
       " 'FORCE_COLOR': '1',\n",
       " 'CLICOLOR_FORCE': '1',\n",
       " 'PAGER': 'cat',\n",
       " 'GIT_PAGER': 'cat',\n",
       " 'MPLBACKEND': 'module://matplotlib_inline.backend_inline'}"
      ]
     },
     "execution_count": 1,
     "metadata": {},
     "output_type": "execute_result"
    }
   ],
   "source": [
    "%env"
   ]
  },
  {
   "cell_type": "code",
   "execution_count": 2,
   "id": "83e3531f-3b22-40b0-9121-de262509b73e",
   "metadata": {},
   "outputs": [],
   "source": [
    "from langchain_community.llms import Ollama\n",
    "llm = Ollama(model=\"llama2\")"
   ]
  },
  {
   "cell_type": "code",
   "execution_count": 3,
   "id": "75f36bd7-2189-4770-9adf-49711449e37b",
   "metadata": {},
   "outputs": [
    {
     "data": {
      "text/plain": [
       "\"\\nLangsmith is a tool that can help with testing by providing a variety of features and functionalities to simplify and streamline the testing process. Here are some ways Langsmith can help with testing:\\n\\n1. Automated Testing: Langsmith provides automated testing capabilities, allowing you to write test cases and run them automatically without manual intervention. This can save time and reduce the likelihood of human error.\\n2. Test Case Management: Langsmith offers a test case management system that allows you to create, organize, and prioritize test cases. You can also track the status of test cases and run them automatically.\\n3. Test Data Management: Langsmith provides a test data management system that allows you to create, manage, and share test data across different teams and projects. This can help reduce the time and effort required to set up and maintain test data.\\n4. Integration Testing: Langsmith supports integration testing by allowing you to integrate multiple test cases and run them automatically. This can help ensure that your application functions correctly when integrated with other systems.\\n5. Performance Testing: Langsmith provides performance testing capabilities, allowing you to measure the performance of your application under different loads and conditions. This can help identify bottlenecks and optimize performance.\\n6. Security Testing: Langsmith offers security testing features that allow you to test your application's security vulnerabilities and fix them before they become a problem.\\n7. Mobile Testing: Langsmith supports mobile testing by providing a range of mobile-specific testing capabilities, including device farming, automated testing, and performance testing.\\n8. Web Application Testing: Langsmith provides web application testing features that allow you to test your application's functionality, usability, and security under different conditions.\\n9. API Testing: Langsmith offers API testing capabilities that allow you to test the functionality, performance, and security of your application's APIs.\\n10. Continuous Integration/Continuous Deployment (CI/CD): Langsmith integrates with CI/CD tools like Jenkins, Travis CI, CircleCI, and GitLab, allowing you to automate testing and deployment processes.\\n\\nOverall, Langsmith can help streamline the testing process by providing a comprehensive set of features that simplify test case management, test data management, integration testing, performance testing, security testing, mobile testing, web application testing, API testing, and CI/CD.\""
      ]
     },
     "execution_count": 3,
     "metadata": {},
     "output_type": "execute_result"
    }
   ],
   "source": [
    "llm.invoke(\"how can langsmith help with testing?\")"
   ]
  },
  {
   "cell_type": "code",
   "execution_count": 4,
   "id": "2206a4d5-c311-4230-8ab1-f1f7a42f0fbe",
   "metadata": {},
   "outputs": [],
   "source": [
    "from langchain_core.prompts import ChatPromptTemplate\n",
    "prompt = ChatPromptTemplate.from_messages([\n",
    "    (\"system\", \"You are world class technical documentation writer.\"),\n",
    "    (\"user\", \"{input}\")\n",
    "])"
   ]
  },
  {
   "cell_type": "code",
   "execution_count": 5,
   "id": "e0e8d065-6a3c-4c34-a557-254a250755f2",
   "metadata": {},
   "outputs": [],
   "source": [
    "chain = prompt | llm "
   ]
  },
  {
   "cell_type": "code",
   "execution_count": 6,
   "id": "a715ecca-60c4-465c-8b77-21a5c8dc34c7",
   "metadata": {},
   "outputs": [
    {
     "data": {
      "text/plain": [
       "\"Ah, an excellent question! As a world-class technical documentation writer, I must say that Langsmith is an incredible tool for testing and validating the quality of your content. Here are some ways in which Langsmith can help with testing:\\n\\n1. Grammar and Spell Checking: Langsmith comes equipped with advanced grammar and spell checking capabilities. It can identify and flag any grammatical errors, spelling mistakes, or inconsistencies in your content, ensuring that it is error-free and polished.\\n2. Readability Analysis: Langsmith's readability analysis tool helps you evaluate the readability of your content based on various factors such as sentence length, complexity, and vocabulary. This feature enables you to identify areas where your content may be challenging for readers to comprehend and make necessary improvements.\\n3. Contextual Analysis: Langsmith's contextual analysis tool provides insights into the context in which your content will be used. It helps you evaluate how well your content fits within a particular topic, genre, or style, ensuring that it is relevant and suitable for its intended purpose.\\n4. Consistency Checking: Langsmith's consistency checking feature allows you to identify instances where your content may deviate from established stylistic guidelines, such as inconsistent formatting, lack of uniformity in terminology, or unintentional repetition. By addressing these issues, you can maintain a consistent and professional tone throughout your content.\\n5. Clarity Evaluation: Langsmith's clarity evaluation tool helps you assess the clarity and understandability of your content by analyzing factors like sentence structure, word choice, and overall readability. This feature enables you to refine your content to ensure that it is clear, concise, and easy to comprehend for your target audience.\\n6. Plagiarism Detection: Langsmith's plagiarism detection feature allows you to identify any instances of copied or paraphrased content within your document. By addressing these issues, you can maintain the originality and authenticity of your work.\\n7. Collaboration Tools: Langsmith offers collaboration tools that enable multiple users to work on a single document simultaneously. This feature allows you to collaborate with colleagues or clients in real-time, streamlining the testing process and ensuring that everyone is on the same page.\\n8. Customizable Reports: Langsmith provides customizable reports based on your content analysis results. These reports can be tailored to meet your specific needs, allowing you to present your findings in a clear and concise manner to stakeholders or clients.\\n9. Integration with Other Tools: Langsmith integrates seamlessly with other tools and platforms, such as Google Docs, Microsoft Word, or Slack. This integration enables you to incorporate Langsmith's testing capabilities into your existing workflow, making it easier to collaborate and streamline the content creation process.\\n10. Ongoing Support: Langsmith offers ongoing support through its extensive knowledge base, FAQ section, and dedicated customer support team. This ensures that you have access to the necessary resources and assistance throughout your testing process.\\n\\nBy leveraging these features, Langsmith can significantly aid in the testing and validation of your technical documentation content, helping you create high-quality documents that are error-free, consistent, and optimized for readability and clarity.\""
      ]
     },
     "execution_count": 6,
     "metadata": {},
     "output_type": "execute_result"
    }
   ],
   "source": [
    "chain.invoke({\"input\": \"how can langsmith help with testing?\"})"
   ]
  },
  {
   "cell_type": "code",
   "execution_count": 8,
   "id": "1a96c371-0932-4f2e-9f90-51c781741731",
   "metadata": {},
   "outputs": [],
   "source": [
    "from langchain_core.output_parsers import StrOutputParser\n",
    "\n",
    "output_parser = StrOutputParser()"
   ]
  },
  {
   "cell_type": "code",
   "execution_count": 9,
   "id": "35ac2b44-bad3-4bfc-ac22-14249bebfb0e",
   "metadata": {},
   "outputs": [],
   "source": [
    "chain = prompt | llm | output_parser"
   ]
  },
  {
   "cell_type": "code",
   "execution_count": 10,
   "id": "e2ac6c3c-521f-43b7-84e7-b8c9ebfb421d",
   "metadata": {},
   "outputs": [
    {
     "data": {
      "text/plain": [
       "'Langsmith is a language model that can assist with testing in several ways:\\n\\n1. Automated Testing: Langsmith can be trained to generate automated tests for your software, using natural language processing and machine learning algorithms. These tests can be used to identify potential issues and bugs in your codebase, saving you time and resources.\\n2. Code Review: Langsmith can assist with code review by analyzing the syntax and structure of your code, identifying potential errors or areas for improvement. This can help ensure that your code is well-written, maintainable, and follows best practices.\\n3. Test Data Generation: Langsmith can generate test data automatically, using natural language processing and machine learning algorithms. This can help reduce the time and effort required to create test cases and increase the coverage of your testing suite.\\n4. Bug Detection: Langsmith can be trained to detect bugs in your code by analyzing the output of your software. By identifying patterns in the output, Langsmith can identify potential issues and notify you of potential problems.\\n5. Test Case Writing: Langsmith can assist with writing test cases by generating natural language descriptions of the expected behavior of your software. This can help ensure that your test cases are clear, concise, and effective.\\n6. Regression Testing: Langsmith can assist with regression testing by identifying areas of your codebase that have changed and require additional testing. By analyzing the changes made to your code, Langsmith can identify potential issues and prioritize testing efforts.\\n7. Performance Testing: Langsmith can be trained to analyze the performance of your software by generating natural language descriptions of the performance metrics that are important to your users. This can help you identify areas where your software may be slow or resource-intensive, and make improvements to improve the user experience.\\n8. Security Testing: Langsmith can assist with security testing by identifying potential vulnerabilities in your codebase. By analyzing the syntax and structure of your code, Langsmith can identify potential security risks and recommend ways to mitigate them.\\n9. Compliance Testing: Langsmith can assist with compliance testing by generating natural language descriptions of the regulations and standards that apply to your software. This can help ensure that your software meets all relevant regulatory requirements, such as HIPAA or GDPR.\\n10. Documentation Improvement: Langsmith can assist with improving the quality and consistency of your technical documentation by generating natural language descriptions of your codebase and recommending improvements to your documentation. This can help ensure that your documentation is clear, concise, and accurate.'"
      ]
     },
     "execution_count": 10,
     "metadata": {},
     "output_type": "execute_result"
    }
   ],
   "source": [
    "chain.invoke({\"input\": \"how can langsmith help with testing?\"})"
   ]
  },
  {
   "cell_type": "code",
   "execution_count": 11,
   "id": "9e70c440-da2d-4aa6-ad87-e9de16b1428c",
   "metadata": {},
   "outputs": [],
   "source": [
    "from langchain_community.document_loaders import WebBaseLoader\n",
    "loader = WebBaseLoader(\"https://docs.smith.langchain.com/user_guide\")\n",
    "\n",
    "docs = loader.load()"
   ]
  },
  {
   "cell_type": "code",
   "execution_count": null,
   "id": "3e668f5d-8cb1-464a-a2cd-6d63b4779244",
   "metadata": {},
   "outputs": [],
   "source": []
  }
 ],
 "metadata": {
  "kernelspec": {
   "display_name": "Python 3 (ipykernel)",
   "language": "python",
   "name": "python3"
  },
  "language_info": {
   "codemirror_mode": {
    "name": "ipython",
    "version": 3
   },
   "file_extension": ".py",
   "mimetype": "text/x-python",
   "name": "python",
   "nbconvert_exporter": "python",
   "pygments_lexer": "ipython3",
   "version": "3.11.8"
  }
 },
 "nbformat": 4,
 "nbformat_minor": 5
}
